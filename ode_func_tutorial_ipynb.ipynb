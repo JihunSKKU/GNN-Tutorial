{
  "nbformat": 4,
  "nbformat_minor": 0,
  "metadata": {
    "colab": {
      "provenance": [],
      "include_colab_link": true
    },
    "kernelspec": {
      "name": "python3",
      "display_name": "Python 3"
    },
    "language_info": {
      "name": "python"
    },
    "accelerator": "GPU",
    "gpuClass": "standard",
    "widgets": {
      "application/vnd.jupyter.widget-state+json": {
        "9ce11c3d3522433c8f80da792c845f2c": {
          "model_module": "@jupyter-widgets/controls",
          "model_name": "HBoxModel",
          "model_module_version": "1.5.0",
          "state": {
            "_dom_classes": [],
            "_model_module": "@jupyter-widgets/controls",
            "_model_module_version": "1.5.0",
            "_model_name": "HBoxModel",
            "_view_count": null,
            "_view_module": "@jupyter-widgets/controls",
            "_view_module_version": "1.5.0",
            "_view_name": "HBoxView",
            "box_style": "",
            "children": [
              "IPY_MODEL_b8adea79e20a4fd4b7cd0a8301321938",
              "IPY_MODEL_3bb5d750632f408ab4345abd1aba4606",
              "IPY_MODEL_c5a480a9d67d46ba9661236f97118d79"
            ],
            "layout": "IPY_MODEL_a854f9cf2fe744afa5a8d7db25de605a"
          }
        },
        "b8adea79e20a4fd4b7cd0a8301321938": {
          "model_module": "@jupyter-widgets/controls",
          "model_name": "HTMLModel",
          "model_module_version": "1.5.0",
          "state": {
            "_dom_classes": [],
            "_model_module": "@jupyter-widgets/controls",
            "_model_module_version": "1.5.0",
            "_model_name": "HTMLModel",
            "_view_count": null,
            "_view_module": "@jupyter-widgets/controls",
            "_view_module_version": "1.5.0",
            "_view_name": "HTMLView",
            "description": "",
            "description_tooltip": null,
            "layout": "IPY_MODEL_5829a655415545b59c516543a4fec365",
            "placeholder": "​",
            "style": "IPY_MODEL_9acf337d284e40968c0699d0a6f61fc3",
            "value": " 41%"
          }
        },
        "3bb5d750632f408ab4345abd1aba4606": {
          "model_module": "@jupyter-widgets/controls",
          "model_name": "FloatProgressModel",
          "model_module_version": "1.5.0",
          "state": {
            "_dom_classes": [],
            "_model_module": "@jupyter-widgets/controls",
            "_model_module_version": "1.5.0",
            "_model_name": "FloatProgressModel",
            "_view_count": null,
            "_view_module": "@jupyter-widgets/controls",
            "_view_module_version": "1.5.0",
            "_view_name": "ProgressView",
            "bar_style": "",
            "description": "",
            "description_tooltip": null,
            "layout": "IPY_MODEL_979264709e0c4f5e9a5ec8edbbb613ac",
            "max": 170498071,
            "min": 0,
            "orientation": "horizontal",
            "style": "IPY_MODEL_6bb31b3e52a44e80ac75667e0f69879c",
            "value": 70287360
          }
        },
        "c5a480a9d67d46ba9661236f97118d79": {
          "model_module": "@jupyter-widgets/controls",
          "model_name": "HTMLModel",
          "model_module_version": "1.5.0",
          "state": {
            "_dom_classes": [],
            "_model_module": "@jupyter-widgets/controls",
            "_model_module_version": "1.5.0",
            "_model_name": "HTMLModel",
            "_view_count": null,
            "_view_module": "@jupyter-widgets/controls",
            "_view_module_version": "1.5.0",
            "_view_name": "HTMLView",
            "description": "",
            "description_tooltip": null,
            "layout": "IPY_MODEL_49e086a8fa374f51ac6cc2367f5e7135",
            "placeholder": "​",
            "style": "IPY_MODEL_8b15930849bf468b9d2429967eda3cc5",
            "value": " 70287360/170498071 [00:01&lt;00:01, 52563102.64it/s]"
          }
        },
        "a854f9cf2fe744afa5a8d7db25de605a": {
          "model_module": "@jupyter-widgets/base",
          "model_name": "LayoutModel",
          "model_module_version": "1.2.0",
          "state": {
            "_model_module": "@jupyter-widgets/base",
            "_model_module_version": "1.2.0",
            "_model_name": "LayoutModel",
            "_view_count": null,
            "_view_module": "@jupyter-widgets/base",
            "_view_module_version": "1.2.0",
            "_view_name": "LayoutView",
            "align_content": null,
            "align_items": null,
            "align_self": null,
            "border": null,
            "bottom": null,
            "display": null,
            "flex": null,
            "flex_flow": null,
            "grid_area": null,
            "grid_auto_columns": null,
            "grid_auto_flow": null,
            "grid_auto_rows": null,
            "grid_column": null,
            "grid_gap": null,
            "grid_row": null,
            "grid_template_areas": null,
            "grid_template_columns": null,
            "grid_template_rows": null,
            "height": null,
            "justify_content": null,
            "justify_items": null,
            "left": null,
            "margin": null,
            "max_height": null,
            "max_width": null,
            "min_height": null,
            "min_width": null,
            "object_fit": null,
            "object_position": null,
            "order": null,
            "overflow": null,
            "overflow_x": null,
            "overflow_y": null,
            "padding": null,
            "right": null,
            "top": null,
            "visibility": null,
            "width": null
          }
        },
        "5829a655415545b59c516543a4fec365": {
          "model_module": "@jupyter-widgets/base",
          "model_name": "LayoutModel",
          "model_module_version": "1.2.0",
          "state": {
            "_model_module": "@jupyter-widgets/base",
            "_model_module_version": "1.2.0",
            "_model_name": "LayoutModel",
            "_view_count": null,
            "_view_module": "@jupyter-widgets/base",
            "_view_module_version": "1.2.0",
            "_view_name": "LayoutView",
            "align_content": null,
            "align_items": null,
            "align_self": null,
            "border": null,
            "bottom": null,
            "display": null,
            "flex": null,
            "flex_flow": null,
            "grid_area": null,
            "grid_auto_columns": null,
            "grid_auto_flow": null,
            "grid_auto_rows": null,
            "grid_column": null,
            "grid_gap": null,
            "grid_row": null,
            "grid_template_areas": null,
            "grid_template_columns": null,
            "grid_template_rows": null,
            "height": null,
            "justify_content": null,
            "justify_items": null,
            "left": null,
            "margin": null,
            "max_height": null,
            "max_width": null,
            "min_height": null,
            "min_width": null,
            "object_fit": null,
            "object_position": null,
            "order": null,
            "overflow": null,
            "overflow_x": null,
            "overflow_y": null,
            "padding": null,
            "right": null,
            "top": null,
            "visibility": null,
            "width": null
          }
        },
        "9acf337d284e40968c0699d0a6f61fc3": {
          "model_module": "@jupyter-widgets/controls",
          "model_name": "DescriptionStyleModel",
          "model_module_version": "1.5.0",
          "state": {
            "_model_module": "@jupyter-widgets/controls",
            "_model_module_version": "1.5.0",
            "_model_name": "DescriptionStyleModel",
            "_view_count": null,
            "_view_module": "@jupyter-widgets/base",
            "_view_module_version": "1.2.0",
            "_view_name": "StyleView",
            "description_width": ""
          }
        },
        "979264709e0c4f5e9a5ec8edbbb613ac": {
          "model_module": "@jupyter-widgets/base",
          "model_name": "LayoutModel",
          "model_module_version": "1.2.0",
          "state": {
            "_model_module": "@jupyter-widgets/base",
            "_model_module_version": "1.2.0",
            "_model_name": "LayoutModel",
            "_view_count": null,
            "_view_module": "@jupyter-widgets/base",
            "_view_module_version": "1.2.0",
            "_view_name": "LayoutView",
            "align_content": null,
            "align_items": null,
            "align_self": null,
            "border": null,
            "bottom": null,
            "display": null,
            "flex": null,
            "flex_flow": null,
            "grid_area": null,
            "grid_auto_columns": null,
            "grid_auto_flow": null,
            "grid_auto_rows": null,
            "grid_column": null,
            "grid_gap": null,
            "grid_row": null,
            "grid_template_areas": null,
            "grid_template_columns": null,
            "grid_template_rows": null,
            "height": null,
            "justify_content": null,
            "justify_items": null,
            "left": null,
            "margin": null,
            "max_height": null,
            "max_width": null,
            "min_height": null,
            "min_width": null,
            "object_fit": null,
            "object_position": null,
            "order": null,
            "overflow": null,
            "overflow_x": null,
            "overflow_y": null,
            "padding": null,
            "right": null,
            "top": null,
            "visibility": null,
            "width": null
          }
        },
        "6bb31b3e52a44e80ac75667e0f69879c": {
          "model_module": "@jupyter-widgets/controls",
          "model_name": "ProgressStyleModel",
          "model_module_version": "1.5.0",
          "state": {
            "_model_module": "@jupyter-widgets/controls",
            "_model_module_version": "1.5.0",
            "_model_name": "ProgressStyleModel",
            "_view_count": null,
            "_view_module": "@jupyter-widgets/base",
            "_view_module_version": "1.2.0",
            "_view_name": "StyleView",
            "bar_color": null,
            "description_width": ""
          }
        },
        "49e086a8fa374f51ac6cc2367f5e7135": {
          "model_module": "@jupyter-widgets/base",
          "model_name": "LayoutModel",
          "model_module_version": "1.2.0",
          "state": {
            "_model_module": "@jupyter-widgets/base",
            "_model_module_version": "1.2.0",
            "_model_name": "LayoutModel",
            "_view_count": null,
            "_view_module": "@jupyter-widgets/base",
            "_view_module_version": "1.2.0",
            "_view_name": "LayoutView",
            "align_content": null,
            "align_items": null,
            "align_self": null,
            "border": null,
            "bottom": null,
            "display": null,
            "flex": null,
            "flex_flow": null,
            "grid_area": null,
            "grid_auto_columns": null,
            "grid_auto_flow": null,
            "grid_auto_rows": null,
            "grid_column": null,
            "grid_gap": null,
            "grid_row": null,
            "grid_template_areas": null,
            "grid_template_columns": null,
            "grid_template_rows": null,
            "height": null,
            "justify_content": null,
            "justify_items": null,
            "left": null,
            "margin": null,
            "max_height": null,
            "max_width": null,
            "min_height": null,
            "min_width": null,
            "object_fit": null,
            "object_position": null,
            "order": null,
            "overflow": null,
            "overflow_x": null,
            "overflow_y": null,
            "padding": null,
            "right": null,
            "top": null,
            "visibility": null,
            "width": null
          }
        },
        "8b15930849bf468b9d2429967eda3cc5": {
          "model_module": "@jupyter-widgets/controls",
          "model_name": "DescriptionStyleModel",
          "model_module_version": "1.5.0",
          "state": {
            "_model_module": "@jupyter-widgets/controls",
            "_model_module_version": "1.5.0",
            "_model_name": "DescriptionStyleModel",
            "_view_count": null,
            "_view_module": "@jupyter-widgets/base",
            "_view_module_version": "1.2.0",
            "_view_name": "StyleView",
            "description_width": ""
          }
        }
      }
    }
  },
  "cells": [
    {
      "cell_type": "markdown",
      "metadata": {
        "id": "view-in-github",
        "colab_type": "text"
      },
      "source": [
        "<a href=\"https://colab.research.google.com/github/JihunSKKU/GNN-Tutorial/blob/master/ode_func_tutorial_ipynb.ipynb\" target=\"_parent\"><img src=\"https://colab.research.google.com/assets/colab-badge.svg\" alt=\"Open In Colab\"/></a>"
      ]
    },
    {
      "cell_type": "code",
      "source": [
        "!git clone https://github.com/pmcsh04/ode_tutorial.git\n",
        "%cd ode_tutorial"
      ],
      "metadata": {
        "colab": {
          "base_uri": "https://localhost:8080/"
        },
        "id": "VWFBRCbpgSJE",
        "outputId": "70f726d1-904a-4d2e-849e-0b9fb84d60cd"
      },
      "execution_count": null,
      "outputs": [
        {
          "output_type": "stream",
          "name": "stdout",
          "text": [
            "Cloning into 'ode_tutorial'...\n",
            "remote: Enumerating objects: 125, done.\u001b[K\n",
            "remote: Counting objects: 100% (125/125), done.\u001b[K\n",
            "remote: Compressing objects: 100% (115/115), done.\u001b[K\n",
            "remote: Total 125 (delta 17), reused 117 (delta 9), pack-reused 0\u001b[K\n",
            "Receiving objects: 100% (125/125), 9.95 MiB | 23.74 MiB/s, done.\n",
            "Resolving deltas: 100% (17/17), done.\n",
            "/content/ode_tutorial/ode_tutorial/ode_tutorial\n"
          ]
        }
      ]
    },
    {
      "cell_type": "code",
      "source": [
        "!ls"
      ],
      "metadata": {
        "id": "cX9PAzZygWRD",
        "colab": {
          "base_uri": "https://localhost:8080/"
        },
        "outputId": "0c8ac6c6-f384-489c-d01d-bbdb2a31d5e2"
      },
      "execution_count": null,
      "outputs": [
        {
          "output_type": "stream",
          "name": "stdout",
          "text": [
            "cifar10  model\tREADME.md  torchdiffeq\n"
          ]
        }
      ]
    },
    {
      "cell_type": "code",
      "source": [
        "pwd"
      ],
      "metadata": {
        "colab": {
          "base_uri": "https://localhost:8080/",
          "height": 35
        },
        "id": "B0__qdI96iAS",
        "outputId": "c2a0ff45-2235-453c-b0eb-7e3578f9320c"
      },
      "execution_count": null,
      "outputs": [
        {
          "output_type": "execute_result",
          "data": {
            "text/plain": [
              "'/content/ode_tutorial/ode_tutorial/ode_tutorial'"
            ],
            "application/vnd.google.colaboratory.intrinsic+json": {
              "type": "string"
            }
          },
          "metadata": {},
          "execution_count": 73
        }
      ]
    },
    {
      "cell_type": "code",
      "source": [
        "\n",
        "!pip install einops"
      ],
      "metadata": {
        "colab": {
          "base_uri": "https://localhost:8080/"
        },
        "id": "Ew6ZOcSCkCDx",
        "outputId": "1104954c-4d6f-4200-9746-a581e9618b13"
      },
      "execution_count": null,
      "outputs": [
        {
          "output_type": "stream",
          "name": "stdout",
          "text": [
            "Looking in indexes: https://pypi.org/simple, https://us-python.pkg.dev/colab-wheels/public/simple/\n",
            "Requirement already satisfied: einops in /usr/local/lib/python3.8/dist-packages (0.6.0)\n"
          ]
        }
      ]
    },
    {
      "cell_type": "code",
      "source": [
        "# coding: utf-8\n",
        "from __future__ import print_function\n",
        "from __future__ import division\n",
        "\n",
        "import torch\n",
        "import torch.nn as nn\n",
        "import torch.optim as optim\n",
        "from torch.autograd import Variable\n",
        "import torch.nn.functional as F\n",
        "\n",
        "import sys\n",
        "\n",
        "import json\n",
        "import time\n",
        "import argparse\n",
        "import random\n",
        "import numpy as np\n",
        "from json import encoder\n",
        "import logging\n",
        "import easydict\n",
        "import os\n",
        "from einops import rearrange, repeat\n",
        "encoder.FLOAT_REPR = lambda o: format(o, '.3f')\n",
        "\n",
        "from cifar10 import utils\n",
        "from cifar10 import models\n",
        "from torchdiffeq import odeint_adjoint as odeint"
      ],
      "metadata": {
        "id": "s-g3h4MvgJ1C"
      },
      "execution_count": null,
      "outputs": []
    },
    {
      "cell_type": "code",
      "source": [
        "parser = argparse.ArgumentParser(description=\"Train a model for the cifar classification task\")\n",
        "parser.add_argument('--model', choices=['node','anode','sonode', 'hbnode', 'ghbnode', 'adamnode'], default='adamnode', help=\"Determines which Neural ODE algorithm is used\")\n",
        "parser.add_argument('--tol', type=float,default=1e-3, help=\"The error tolerance for the ODE solver\")\n",
        "parser.add_argument('--xres',type=float,default=1.5)\n",
        "parser.add_argument('--adjoint',type=eval,default=True)\n",
        "parser.add_argument('--niters',type=int,default=10)\n",
        "parser.add_argument('--lr',type=float,default=0.001,help='The learning rate for the optimizer')\n",
        "parser.add_argument('--gpu',type=int,default=0,help='The GPU device number')\n",
        "parser.add_argument('--weight_decay',type=float,default=0.00,help='Weight decay in the optimizer')\n",
        "parser.add_argument('--timescale',type=int,default=1)\n",
        "parser.add_argument('--seed',type=int,default=7)\n",
        "\n",
        "parser.add_argument('--dim_size',type=int,default=12)\n",
        "parser.add_argument('--hidden_size',type=int,default=31)\n",
        "parser.add_argument('--alpha',type=float,default=3.0)\n",
        "parser.add_argument('--beta',type=float,default=3.0)\n",
        "parser.add_argument('--sqrt',choices=['sigmoid', 'softplus', 'tanh'],default='sigmoid')\n",
        "\n",
        "parser.add_argument('--test_epoch',type=int,default=10)\n",
        "\n",
        "# make a parser\n",
        "args = parser.parse_args('')\n",
        "\n",
        "randomSeed = args.seed\n",
        "torch.manual_seed(randomSeed)\n",
        "torch.cuda.manual_seed(randomSeed)\n",
        "torch.cuda.manual_seed_all(randomSeed)  # if use multi-GPU\n",
        "torch.backends.cudnn.deterministic = True\n",
        "torch.backends.cudnn.benchmark = False\n",
        "np.random.seed(randomSeed)\n",
        "random.seed(randomSeed)"
      ],
      "metadata": {
        "id": "1QDH81augSeI"
      },
      "execution_count": null,
      "outputs": []
    },
    {
      "cell_type": "code",
      "source": [
        "# PATH = './model/cifar10_'+str(args.model)+'_'+str(args.test_epoch)+'.pt'\n",
        "# shape: [time, batch, derivatives, channel, x, y]\n",
        "trdat, tsdat = utils.cifar(batch_size=64)\n",
        "\n",
        "# Some hypers\n",
        "thetaact = nn.Tanh()\n",
        "gamma = nn.Parameter(torch.tensor([0.0]))\n",
        "\n",
        "hidden_size = args.hidden_size\n",
        "sqrt = args.sqrt\n",
        "alpha = args.alpha \n",
        "beta = args.beta\n",
        "dim_size = args.dim_size"
      ],
      "metadata": {
        "colab": {
          "base_uri": "https://localhost:8080/",
          "height": 66,
          "referenced_widgets": [
            "9ce11c3d3522433c8f80da792c845f2c",
            "b8adea79e20a4fd4b7cd0a8301321938",
            "3bb5d750632f408ab4345abd1aba4606",
            "c5a480a9d67d46ba9661236f97118d79",
            "a854f9cf2fe744afa5a8d7db25de605a",
            "5829a655415545b59c516543a4fec365",
            "9acf337d284e40968c0699d0a6f61fc3",
            "979264709e0c4f5e9a5ec8edbbb613ac",
            "6bb31b3e52a44e80ac75667e0f69879c",
            "49e086a8fa374f51ac6cc2367f5e7135",
            "8b15930849bf468b9d2429967eda3cc5"
          ]
        },
        "id": "lnTDfWXugXs6",
        "outputId": "e84ab83c-81e5-488f-f929-d83a89126679"
      },
      "execution_count": null,
      "outputs": [
        {
          "output_type": "stream",
          "name": "stdout",
          "text": [
            "Downloading https://www.cs.toronto.edu/~kriz/cifar-10-python.tar.gz to ./data/cifar-10-python.tar.gz\n"
          ]
        },
        {
          "output_type": "display_data",
          "data": {
            "text/plain": [
              "  0%|          | 0/170498071 [00:00<?, ?it/s]"
            ],
            "application/vnd.jupyter.widget-view+json": {
              "version_major": 2,
              "version_minor": 0,
              "model_id": "9ce11c3d3522433c8f80da792c845f2c"
            }
          },
          "metadata": {}
        }
      ]
    },
    {
      "cell_type": "markdown",
      "source": [
        "# Neural ODE\n",
        "\n",
        "![image.png](data:image/png;base64,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)\n"
      ],
      "metadata": {
        "id": "VuL4s_E5czMW"
      }
    },
    {
      "cell_type": "code",
      "source": [
        "args.model = 'node'\n",
        "print(args.model)"
      ],
      "metadata": {
        "id": "XipEGeSp_DEG"
      },
      "execution_count": null,
      "outputs": []
    },
    {
      "cell_type": "code",
      "source": [
        "class anode_initial_velocity(nn.Module):\n",
        "\n",
        "    def __init__(self, in_channels, aug, args):\n",
        "        super(anode_initial_velocity, self).__init__()\n",
        "        self.args = args\n",
        "        self.aug = aug\n",
        "        self.in_channels = in_channels\n",
        "\n",
        "    def forward(self, x0):\n",
        "        x0 = rearrange(x0.float(), 'b c x y -> b 1 c x y')\n",
        "        outshape = list(x0.shape)\n",
        "        outshape[2] = self.aug\n",
        "        out = torch.zeros(outshape).to(self.args.gpu)\n",
        "        out[:, :, :3] += x0\n",
        "        return out"
      ],
      "metadata": {
        "id": "MEKcxNzgSucC"
      },
      "execution_count": null,
      "outputs": []
    },
    {
      "cell_type": "code",
      "source": [
        "class NODE(nn.Module):\n",
        "    def __init__(self, df=None, **kwargs):\n",
        "        super(NODE, self).__init__()\n",
        "        self.__dict__.update(kwargs)\n",
        "        self.df = df\n",
        "        self.nfe = 0\n",
        "\n",
        "    def forward(self, t, x):\n",
        "        self.nfe += 1\n",
        "        return self.df(t, x)"
      ],
      "metadata": {
        "id": "e_f_40vJHkOb"
      },
      "execution_count": null,
      "outputs": []
    },
    {
      "cell_type": "code",
      "source": [
        "dim = 3\n",
        "hidden = 125\n",
        "df = models.DF(dim, hidden, args=args)\n",
        "model_layer = models.NODElayer(NODE(df), args=args)\n",
        "iv = models.anode_initial_velocity(3, aug=dim, args=args)\n",
        "# create the model\n",
        "model = nn.Sequential(\n",
        "    iv,\n",
        "    model_layer,\n",
        "    models.predictionlayer(dim)\n",
        "    ).to(device=f'cuda:{args.gpu}')"
      ],
      "metadata": {
        "id": "-3kqvw6i65qp"
      },
      "execution_count": null,
      "outputs": []
    },
    {
      "cell_type": "code",
      "source": [
        "# optimizer\n",
        "optimizer = optim.Adam(model.parameters(), lr=args.lr, weight_decay=args.weight_decay)\n",
        "\n",
        "# print some summary information\n",
        "print(f'Error Tolerance: {args.tol}')\n",
        "print('Model Parameter Count:', utils.count_parameters(model))\n",
        "\n",
        "# train the model\n",
        "PATH = './model/cifar10_node_10.pt'\n",
        "model.load_state_dict(torch.load(PATH))\n",
        "\n",
        "utils.test(model, optimizer, trdat, tsdat, args=args)"
      ],
      "metadata": {
        "id": "1E_QV1nO7gfY"
      },
      "execution_count": null,
      "outputs": []
    },
    {
      "cell_type": "markdown",
      "source": [
        "# Augmented Neural ODE (ANODE)\n",
        "\n",
        "![image.png](data:image/png;base64,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)\n",
        "\n",
        "\n",
        "\n",
        "\n",
        "\n",
        "\n",
        "\n",
        "\n"
      ],
      "metadata": {
        "id": "jIbXEKMXduhR"
      }
    },
    {
      "cell_type": "code",
      "source": [
        "args.model = 'anode'\n",
        "print(args.model)"
      ],
      "metadata": {
        "id": "BOE4sf_6_E97"
      },
      "execution_count": null,
      "outputs": []
    },
    {
      "cell_type": "code",
      "source": [
        "class anode_initial_velocity(nn.Module):\n",
        "\n",
        "    def __init__(self, in_channels, aug, args):\n",
        "        super(anode_initial_velocity, self).__init__()\n",
        "        self.args = args\n",
        "        self.aug = aug\n",
        "        self.in_channels = in_channels\n",
        "\n",
        "    def forward(self, x0):\n",
        "        x0 = rearrange(x0.float(), 'b c x y -> b 1 c x y')\n",
        "        outshape = list(x0.shape)\n",
        "        outshape[2] = self.aug\n",
        "        out = torch.zeros(outshape).to(self.args.gpu)\n",
        "        out[:, :, :3] += x0\n",
        "        return out"
      ],
      "metadata": {
        "id": "i_g_q2quxnaZ"
      },
      "execution_count": null,
      "outputs": []
    },
    {
      "cell_type": "code",
      "source": [
        "class NODE(nn.Module):\n",
        "    def __init__(self, df=None, **kwargs):\n",
        "        super(NODE, self).__init__()\n",
        "        self.__dict__.update(kwargs)\n",
        "        self.df = df\n",
        "        self.nfe = 0\n",
        "\n",
        "    def forward(self, t, x):\n",
        "        self.nfe += 1\n",
        "        return self.df(t, x)"
      ],
      "metadata": {
        "id": "_TtiGYyAfGFM"
      },
      "execution_count": null,
      "outputs": []
    },
    {
      "cell_type": "code",
      "source": [
        "dim = 13\n",
        "hidden = 64\n",
        "df = models.DF(dim, hidden, args=args)\n",
        "model_layer = models.NODElayer(NODE(df), args=args)\n",
        "iv = models.anode_initial_velocity(3, aug=dim, args=args)\n",
        "# create the model\n",
        "model = nn.Sequential(\n",
        "    iv,\n",
        "    model_layer,\n",
        "    models.predictionlayer(dim)\n",
        "    ).to(device=f'cuda:{args.gpu}')"
      ],
      "metadata": {
        "id": "cYS8q6We66TK"
      },
      "execution_count": null,
      "outputs": []
    },
    {
      "cell_type": "code",
      "source": [
        "# optimizer\n",
        "optimizer = optim.Adam(model.parameters(), lr=args.lr, weight_decay=args.weight_decay)\n",
        "\n",
        "# print some summary information\n",
        "print(f'Error Tolerance: {args.tol}')\n",
        "print('Model Parameter Count:', utils.count_parameters(model))\n",
        "\n",
        "# train the model\n",
        "PATH = './model/cifar10_anode_10.pt'\n",
        "model.load_state_dict(torch.load(PATH))\n",
        "\n",
        "utils.test(model, optimizer, trdat, tsdat, args=args)"
      ],
      "metadata": {
        "id": "imK79WoO7qxe"
      },
      "execution_count": null,
      "outputs": []
    },
    {
      "cell_type": "markdown",
      "source": [
        "# Second order Neural ODE (SONODE)\n",
        "![image.png](data:image/png;base64,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)"
      ],
      "metadata": {
        "id": "-0ezrgSPfWGg"
      }
    },
    {
      "cell_type": "code",
      "source": [
        "args.model = 'sonode'\n",
        "print(args.model)"
      ],
      "metadata": {
        "id": "jX5nEuGb_GcR"
      },
      "execution_count": null,
      "outputs": []
    },
    {
      "cell_type": "code",
      "source": [
        "class initial_velocity(nn.Module):\n",
        "\n",
        "    def __init__(self, in_channels, out_channels, nhidden):\n",
        "        super(initial_velocity, self).__init__()\n",
        "        assert (3 * out_channels >= in_channels)\n",
        "        self.actv = nn.LeakyReLU(0.3)\n",
        "        self.fc1 = nn.Conv2d(in_channels, nhidden, kernel_size=1, padding=0)\n",
        "        self.fc2 = nn.Conv2d(nhidden, nhidden, kernel_size=3, padding=1)\n",
        "        self.fc3 = nn.Conv2d(nhidden, 2 * out_channels - in_channels, kernel_size=1, padding=0)\n",
        "        self.out_channels = out_channels\n",
        "        self.in_channels = in_channels\n",
        "\n",
        "    def forward(self, x0):\n",
        "        x0 = x0.float()\n",
        "        out = self.fc1(x0)\n",
        "        out = self.actv(out)\n",
        "        out = self.fc2(out)\n",
        "        out = self.actv(out)\n",
        "        out = self.fc3(out)\n",
        "        out = torch.cat([x0, out], dim=1)\n",
        "        out = rearrange(out, 'b (d c) ... -> b d c ...', d=2)\n",
        "        return out"
      ],
      "metadata": {
        "id": "y-nQRIJ38Bxp"
      },
      "execution_count": null,
      "outputs": []
    },
    {
      "cell_type": "code",
      "source": [
        "class SONODE(NODE):\n",
        "    def forward(self, t, x):\n",
        "        \"\"\"\n",
        "        Compute [y y']' = [y' y''] = [y' df(t, y, y')]\n",
        "        :param t: time, shape [1]\n",
        "        :param x: [y y'], shape [batch, 2, vec]\n",
        "        :return: [y y']', shape [batch, 2, vec]\n",
        "        \"\"\"\n",
        "        self.nfe += 1\n",
        "        v = x[:, 1:, :]\n",
        "        out = self.df(t, x)\n",
        "        return torch.cat((v, out), dim=1)"
      ],
      "metadata": {
        "id": "F50L00CCf0lo"
      },
      "execution_count": null,
      "outputs": []
    },
    {
      "cell_type": "code",
      "source": [
        "dim = 12\n",
        "hidden = 50\n",
        "df = models.DF(dim, hidden, args=args)\n",
        "model_layer = models.NODElayer(SONODE(df), args=args)\n",
        "iv = models.initial_velocity(3, dim, hidden)\n",
        "\n",
        "# create the model\n",
        "model = nn.Sequential(\n",
        "    iv,\n",
        "    model_layer,\n",
        "    models.predictionlayer(dim)\n",
        "    ).to(device=f'cuda:{args.gpu}')"
      ],
      "metadata": {
        "id": "z_khiMxy7xeb"
      },
      "execution_count": null,
      "outputs": []
    },
    {
      "cell_type": "code",
      "source": [
        "# optimizer\n",
        "optimizer = optim.Adam(model.parameters(), lr=args.lr, weight_decay=args.weight_decay)\n",
        "\n",
        "# print some summary information\n",
        "print(f'Error Tolerance: {args.tol}')\n",
        "print('Model Parameter Count:', utils.count_parameters(model))\n",
        "\n",
        "# train the model\n",
        "PATH = './model/cifar10_sonode_10.pt'\n",
        "model.load_state_dict(torch.load(PATH))\n",
        "\n",
        "utils.test(model, optimizer, trdat, tsdat, args=args)"
      ],
      "metadata": {
        "id": "NqsWeFz2668o"
      },
      "execution_count": null,
      "outputs": []
    },
    {
      "cell_type": "markdown",
      "source": [
        "# (General) Heavy ball Neural ODE ((G)HBNODE)\n",
        "\n",
        "## HBNODE\n",
        "![image.png](data:image/png;base64,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)\n",
        "## GHBNODE\n",
        "![image.png](data:image/png;base64,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)"
      ],
      "metadata": {
        "id": "K7_T2Yw7fV8i"
      }
    },
    {
      "cell_type": "code",
      "source": [
        "args.model = 'hbnode'\n",
        "print(args.model)"
      ],
      "metadata": {
        "id": "w-CKWe1l_HbY"
      },
      "execution_count": null,
      "outputs": []
    },
    {
      "cell_type": "code",
      "source": [
        "class initial_velocity(nn.Module):\n",
        "\n",
        "    def __init__(self, in_channels, out_channels, nhidden):\n",
        "        super(initial_velocity, self).__init__()\n",
        "        assert (3 * out_channels >= in_channels)\n",
        "        self.actv = nn.LeakyReLU(0.3)\n",
        "        self.fc1 = nn.Conv2d(in_channels, nhidden, kernel_size=1, padding=0)\n",
        "        self.fc2 = nn.Conv2d(nhidden, nhidden, kernel_size=3, padding=1)\n",
        "        self.fc3 = nn.Conv2d(nhidden, 2 * out_channels - in_channels, kernel_size=1, padding=0)\n",
        "        self.out_channels = out_channels\n",
        "        self.in_channels = in_channels\n",
        "\n",
        "    def forward(self, x0):\n",
        "        x0 = x0.float()\n",
        "        out = self.fc1(x0)\n",
        "        out = self.actv(out)\n",
        "        out = self.fc2(out)\n",
        "        out = self.actv(out)\n",
        "        out = self.fc3(out)\n",
        "        out = torch.cat([x0, out], dim=1)\n",
        "        out = rearrange(out, 'b (d c) ... -> b d c ...', d=2)\n",
        "        return out"
      ],
      "metadata": {
        "id": "wuSM4GgD7988"
      },
      "execution_count": null,
      "outputs": []
    },
    {
      "cell_type": "code",
      "source": [
        "class HeavyBallNODE(NODE):\n",
        "    def __init__(self, df, gamma=None, thetaact=None, gammaact='sigmoid', timescale=1):\n",
        "        super().__init__(df)\n",
        "        self.gamma = nn.Parameter(torch.Tensor([-3.0])) if gamma is None else gamma\n",
        "        self.gammaact = nn.Sigmoid() if gammaact == 'sigmoid' else gammaact\n",
        "        self.timescale = timescale\n",
        "        self.thetaact = nn.Identity() if thetaact is None else thetaact\n",
        "\n",
        "    def forward(self, t, x):\n",
        "        \"\"\"\n",
        "        Compute [theta' m' v'] with heavy ball parametrization in\n",
        "        $$ theta' = -m / sqrt(v + eps) $$\n",
        "        $$ m' = h f'(theta) - rm $$\n",
        "        $$ v' = p (f'(theta))^2 - qv $$\n",
        "        https://www.jmlr.org/papers/volume21/18-808/18-808.pdf\n",
        "        because v is constant, we change c -> 1/sqrt(v)\n",
        "        c has to be positive\n",
        "        :param t: time, shape [1]\n",
        "        :param x: [theta m v], shape [batch, 3, dim]\n",
        "        :return: [theta' m' v'], shape [batch, 3, dim]\n",
        "        \"\"\"\n",
        "        self.nfe += 1\n",
        "        theta, m = torch.split(x, 1, dim=1)\n",
        "        dtheta = self.thetaact(m)\n",
        "        dm = self.df(t, theta) - self.timescale * torch.sigmoid(self.gamma) * m\n",
        "        return torch.cat((dtheta, dm), dim=1)"
      ],
      "metadata": {
        "id": "3LeL200gcxil"
      },
      "execution_count": null,
      "outputs": []
    },
    {
      "cell_type": "code",
      "source": [
        "# hbnode\n",
        "\n",
        "dim = 12\n",
        "hidden = 51\n",
        "args.xres = 0\n",
        "df = models.DF(dim, hidden, args=args)\n",
        "iv = models.initial_velocity(3, dim, hidden)\n",
        "model_layer = models.NODElayer(HeavyBallNODE(df, None, thetaact=None, timescale=args.timescale), args=args)\n",
        "\n",
        "model = nn.Sequential(\n",
        "    iv,\n",
        "    model_layer,\n",
        "    models.predictionlayer(dim)\n",
        "    ).to(device=f'cuda:{args.gpu}')"
      ],
      "metadata": {
        "id": "V-uQM59T68Bw"
      },
      "execution_count": null,
      "outputs": []
    },
    {
      "cell_type": "code",
      "source": [
        "# optimizer\n",
        "optimizer = optim.Adam(model.parameters(), lr=args.lr, weight_decay=args.weight_decay)\n",
        "\n",
        "# print some summary information\n",
        "print(f'Error Tolerance: {args.tol}')\n",
        "print('Model Parameter Count:', utils.count_parameters(model))\n",
        "\n",
        "# train the model\n",
        "PATH = './model/cifar10_hbnode_10.pt'\n",
        "model.load_state_dict(torch.load(PATH))\n",
        "\n",
        "utils.test(model, optimizer, trdat, tsdat, args=args)"
      ],
      "metadata": {
        "id": "UtYQpr6Q8GwJ"
      },
      "execution_count": null,
      "outputs": []
    },
    {
      "cell_type": "code",
      "source": [
        "args.model = 'ghbnode'\n",
        "print(args.model)"
      ],
      "metadata": {
        "id": "5V9SxgqBE7d4"
      },
      "execution_count": null,
      "outputs": []
    },
    {
      "cell_type": "code",
      "source": [
        "# ghbnode\n",
        "\n",
        "dim = 12\n",
        "hidden = 51\n",
        "args.xres = 1.5\n",
        "df = models.DF(dim, hidden, args=args)\n",
        "model_layer = models.NODElayer(HeavyBallNODE(df, None, thetaact=thetaact, timescale=args.timescale), args=args) \n",
        "iv = models.initial_velocity(3, dim, hidden)\n",
        "model = nn.Sequential(\n",
        "    iv,\n",
        "    model_layer,\n",
        "    models.predictionlayer(dim)\n",
        "    ).to(device=f'cuda:{args.gpu}')"
      ],
      "metadata": {
        "id": "uLruIzsE7DTX"
      },
      "execution_count": null,
      "outputs": []
    },
    {
      "cell_type": "code",
      "source": [
        "# optimizer\n",
        "optimizer = optim.Adam(model.parameters(), lr=args.lr, weight_decay=args.weight_decay)\n",
        "\n",
        "# print some summary information\n",
        "print(f'Error Tolerance: {args.tol}')\n",
        "print('Model Parameter Count:', utils.count_parameters(model))\n",
        "\n",
        "# train the model\n",
        "PATH = './model/cifar10_ghbnode_10.pt'\n",
        "model.load_state_dict(torch.load(PATH))\n",
        "\n",
        "utils.test(model, optimizer, trdat, tsdat, args=args)"
      ],
      "metadata": {
        "id": "nsCC7BRH8IOj"
      },
      "execution_count": null,
      "outputs": []
    },
    {
      "cell_type": "markdown",
      "source": [
        "# Adaptive momentum estimation Neural ODE (AdamNODE)\n",
        "\n",
        "![image.png](data:image/png;base64,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)"
      ],
      "metadata": {
        "id": "JQyf0opmf8OR"
      }
    },
    {
      "cell_type": "code",
      "source": [
        "args.model = 'adamnode'\n",
        "print(args.model)"
      ],
      "metadata": {
        "id": "RcVvHTlT_KAH"
      },
      "execution_count": null,
      "outputs": []
    },
    {
      "cell_type": "code",
      "source": [
        "class initial_velocity_adam(nn.Module):\n",
        "\n",
        "    def __init__(self, in_channels, out_channels, nhidden):\n",
        "        super(initial_velocity_adam, self).__init__()\n",
        "        assert (3 * out_channels >= in_channels)\n",
        "        self.actv = nn.LeakyReLU(0.3)\n",
        "        self.fc1 = nn.Conv2d(in_channels, nhidden, kernel_size=1, padding=0) # 3, 51\n",
        "        self.fc2 = nn.Conv2d(nhidden, nhidden, kernel_size=3, padding=1) # 51, 51\n",
        "        self.fc3 = nn.Conv2d(nhidden, 2 * out_channels - in_channels, kernel_size=1, padding=0) # 51, 21\n",
        "\n",
        "        self.out_channels = out_channels # 12\n",
        "        self.nhidden = nhidden # 51\n",
        "        self.in_channels = in_channels # 3\n",
        "\n",
        "    def forward(self, x0):\n",
        "        x0 = x0.float()\n",
        "\n",
        "        out = self.fc1(x0)\n",
        "        out = self.actv(out)\n",
        "        out = self.fc2(out)\n",
        "        out = self.actv(out)\n",
        "        out = self.fc3(out)\n",
        "\n",
        "        out_v = out ** 2\n",
        "        \n",
        "        out = torch.cat([x0, out, out_v], dim=1)\n",
        "        out = rearrange(out, 'b (d c) ... -> b d c ...', d=3)\n",
        "\n",
        "        return out"
      ],
      "metadata": {
        "id": "WSAI5XJp75yd"
      },
      "execution_count": null,
      "outputs": []
    },
    {
      "cell_type": "code",
      "source": [
        "class AdamNODE(NODE):\n",
        "    def __init__(self, df, gamma=None, thetaact=None, gammaact='sigmoid', sqrt='sigmoid',alpha = -3.0, beta = -3.0, timescale=1):\n",
        "        super().__init__(df)\n",
        "        self.gamma = nn.Parameter(torch.Tensor([-3.0])) if gamma is None else gamma\n",
        "        self.gammaact = nn.Sigmoid() if gammaact == 'sigmoid' else gammaact\n",
        "        self.timescale = timescale\n",
        "        self.thetaact = nn.Identity() if thetaact is None else thetaact\n",
        "\n",
        "        self.alpha = nn.Parameter(torch.Tensor([alpha]))\n",
        "        self.beta = nn.Parameter(torch.Tensor([beta]))\n",
        "\n",
        "        self.epsilon = 1e-8\n",
        "        \n",
        "        if sqrt == 'sigmoid':\n",
        "            self.act = nn.Sigmoid()\n",
        "        elif sqrt == 'softplus':\n",
        "            self.act = nn.Softplus()\n",
        "        else:\n",
        "            self.act = nn.Identity()\n",
        "\n",
        "    def forward(self, t, x):\n",
        "        \n",
        "        \"\"\"\n",
        "        Compute [theta' m' v'] with heavy ball parametrization in\n",
        "        $$ theta' = -m / sqrt(v + eps) $$\n",
        "        $$ m' = h f'(theta) - rm $$\n",
        "        $$ v' = p (f'(theta))^2 - qv $$\n",
        "        https://www.jmlr.org/papers/volume21/18-808/18-808.pdf\n",
        "        because v is constant, we change c -> 1/sqrt(v)\n",
        "        c has to be positive\n",
        "        :param t: time, shape [1]\n",
        "        :param x: [theta m v], shape [batch, 3, dim]\n",
        "        :return: [theta' m' v'], shape [batch, 3, dim]\n",
        "        \"\"\"\n",
        "        self.nfe += 1\n",
        "\n",
        "        theta, m, v = torch.tensor_split(x, 3, dim=1)\n",
        "\n",
        "        dtheta = self.thetaact(m) / (torch.sqrt(self.act(v))+ self.epsilon)\n",
        "\n",
        "        df = self.df(t, theta)\n",
        "\n",
        "        dm = torch.sigmoid(self.alpha) * (df - m)\n",
        "        dv = torch.sigmoid(self.beta) * (df**2 - v)\n",
        "        return torch.cat((dtheta, dm, dv), dim=1)\n"
      ],
      "metadata": {
        "id": "9RIHh1oPf85U"
      },
      "execution_count": null,
      "outputs": []
    },
    {
      "cell_type": "code",
      "source": [
        "dim = dim_size\n",
        "hidden = hidden_size\n",
        "args.xres = 0\n",
        "df = models.DF(dim, hidden, args=args)\n",
        "iv = models.initial_velocity_adam(3, dim, hidden)\n",
        "model_layer = models.NODElayer(models.AdamNODE(df, None, thetaact=None, sqrt=sqrt, alpha = alpha, beta = beta, timescale=args.timescale), args=args)\n",
        "# create the model\n",
        "model = nn.Sequential(\n",
        "    iv,\n",
        "    model_layer,\n",
        "    models.predictionlayer_adam(dim)\n",
        "    ).to(device=f'cuda:{args.gpu}')"
      ],
      "metadata": {
        "id": "8ITNZNhxCUDM"
      },
      "execution_count": null,
      "outputs": []
    },
    {
      "cell_type": "code",
      "source": [
        "# optimizer\n",
        "optimizer = optim.Adam(model.parameters(), lr=args.lr, weight_decay=args.weight_decay)\n",
        "\n",
        "# print some summary information\n",
        "print(f'Error Tolerance: {args.tol}')\n",
        "print('Model Parameter Count:', utils.count_parameters(model))\n",
        "\n",
        "# train the model\n",
        "PATH = './model/cifar10_adamnode_10.pt'\n",
        "model.load_state_dict(torch.load(PATH))\n",
        "\n",
        "utils.test(model, optimizer, trdat, tsdat, args=args)"
      ],
      "metadata": {
        "id": "G-F4FwGx682f"
      },
      "execution_count": null,
      "outputs": []
    }
  ]
}